{
 "cells": [
  {
   "cell_type": "code",
   "execution_count": null,
   "metadata": {},
   "outputs": [
    {
     "name": "stdout",
     "output_type": "stream",
     "text": [
      "  Country  Year  Cell Phones per 100 People  Calculated per 100  Difference\n",
      "0     USA  2010                        97.1           97.087379   -0.012621\n",
      "1     USA  2020                       120.8          120.845921    0.045921\n",
      "2   India  2010                        56.9           56.910569    0.010569\n",
      "3   India  2020                        87.0           86.956522   -0.043478\n",
      "4   China  2010                        59.7           59.701493    0.001493\n",
      "5   China  2020                       111.1          111.111111    0.011111\n"
     ]
    }
   ],
   "source": [
    "import pandas as pd\n",
    "cell_phones_data = {\n",
    "    \"Country\": [\"USA\", \"USA\", \"India\", \"India\", \"China\", \"China\"],\n",
    "    \"Year\": [2010, 2020, 2010, 2020, 2010, 2020],\n",
    "    \"Total Cell Phones\": [300000000, 400000000, 700000000, 1200000000, 800000000, 1600000000]\n",
    "}\n",
    "population_data = {\n",
    "    \"Country\": [\"USA\", \"USA\", \"India\", \"India\", \"China\", \"China\"],\n",
    "    \"Year\": [2010, 2020, 2010, 2020, 2010, 2020],\n",
    "    \"Total Population\": [309000000, 331000000, 1230000000, 1380000000, 1340000000, 1440000000]\n",
    "})\n",
    "cell_phones_per_100_data = {\n",
    "    \"Country\": [\"USA\", \"USA\", \"India\", \"India\", \"China\", \"China\"],\n",
    "    \"Year\": [2010, 2020, 2010, 2020, 2010, 2020],\n",
    "    \"Cell Phones per 100 People\": [97.1, 120.8, 56.9, 87.0, 59.7, 111.1]\n",
    "}\n",
    "df_cell_phones = pd.DataFrame(cell_phones_data)\n",
    "df_population = pd.DataFrame(population_data)\n",
    "df_cell_phones_per_100 = pd.DataFrame(cell_phones_per_100_data)\n",
    "df_merged = pd.merge(df_cell_phones, df_population, on=[\"Country\", \"Year\"])\n",
    "df_merged = pd.merge(df_merged, df_cell_phones_per_100, on=[\"Country\", \"Year\"])\n",
    "df_merged['Calculated per 100'] = (df_merged['Total Cell Phones'] / df_merged['Total Population']) * 100\n",
    "df_merged['Difference'] = df_merged['Calculated per 100'] - df_merged['Cell Phones per 100 People']\n",
    "print(df_merged[['Country', 'Year', 'Cell Phones per 100 People', 'Calculated per 100', 'Difference']])\n"
   ]
  },
  {
   "cell_type": "code",
   "execution_count": null,
   "metadata": {},
   "outputs": [],
   "source": []
  }
 ],
 "metadata": {
  "kernelspec": {
   "display_name": "Python 3",
   "language": "python",
   "name": "python3"
  },
  "language_info": {
   "codemirror_mode": {
    "name": "ipython",
    "version": 3
   },
   "file_extension": ".py",
   "mimetype": "text/x-python",
   "name": "python",
   "nbconvert_exporter": "python",
   "pygments_lexer": "ipython3",
   "version": "3.13.2"
  }
 },
 "nbformat": 4,
 "nbformat_minor": 2
}
